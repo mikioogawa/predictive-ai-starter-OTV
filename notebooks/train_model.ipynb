{
 "cells": [
  {
   "cell_type": "code",
   "execution_count": null,
   "id": "initial_id",
   "metadata": {
    "collapsed": true,
    "execution": {
     "iopub.execute_input": "2024-10-03T19:28:40.803679Z",
     "iopub.status.busy": "2024-10-03T19:28:40.803333Z",
     "iopub.status.idle": "2024-10-03T19:28:42.043446Z",
     "shell.execute_reply": "2024-10-03T19:28:42.042229Z"
    },
    "papermill": {
     "duration": 1.2501,
     "end_time": "2024-10-03T19:28:42.046535",
     "exception": false,
     "start_time": "2024-10-03T19:28:40.796435",
     "status": "completed"
    },
    "tags": []
   },
   "outputs": [],
   "source": [
    "import os\n",
    "import sys\n",
    "from pathlib import Path\n",
    "\n",
    "import datarobot as dr\n",
    "from dotenv import load_dotenv\n",
    "\n",
    "# The notebook should be executed from the project root directory\n",
    "if \"_correct_path\" not in locals():\n",
    "    os.chdir(\"..\")\n",
    "    sys.path.append(\".\")\n",
    "    print(f\"changed dir to {Path('.').resolve()})\")\n",
    "    _correct_path = True\n",
    "load_dotenv()\n",
    "client = dr.Client()"
   ]
  },
  {
   "cell_type": "code",
   "execution_count": 3,
   "id": "b161892ca68b251c",
   "metadata": {
    "execution": {
     "iopub.execute_input": "2024-10-03T19:28:42.066548Z",
     "iopub.status.busy": "2024-10-03T19:28:42.065898Z",
     "iopub.status.idle": "2024-10-03T19:28:43.659849Z",
     "shell.execute_reply": "2024-10-03T19:28:43.658490Z"
    },
    "papermill": {
     "duration": 1.605124,
     "end_time": "2024-10-03T19:28:43.662329",
     "exception": false,
     "start_time": "2024-10-03T19:28:42.057205",
     "status": "completed"
    },
    "tags": []
   },
   "outputs": [],
   "source": [
    "from datarobotx.idp.use_cases import get_or_create_use_case\n",
    "\n",
    "from infra.settings_main import use_case_args\n",
    "\n",
    "if \"DATAROBOT_DEFAULT_USE_CASE\" in os.environ:\n",
    "    use_case_id = os.environ[\"DATAROBOT_DEFAULT_USE_CASE\"]\n",
    "else:\n",
    "    use_case_id = get_or_create_use_case(\n",
    "        endpoint=client.endpoint,\n",
    "        token=client.token,\n",
    "        name=use_case_args.resource_name,\n",
    "        description=use_case_args.description,\n",
    "    )"
   ]
  },
  {
   "cell_type": "markdown",
   "id": "d111948bcc943419",
   "metadata": {
    "papermill": {
     "duration": 0.004064,
     "end_time": "2024-10-03T19:28:43.672062",
     "exception": false,
     "start_time": "2024-10-03T19:28:43.667998",
     "status": "completed"
    },
    "tags": []
   },
   "source": [
    "# Data Ingest and Preparation"
   ]
  },
  {
   "cell_type": "code",
   "execution_count": null,
   "id": "f8611f861f1224dd",
   "metadata": {
    "execution": {
     "iopub.execute_input": "2024-10-03T19:28:43.682281Z",
     "iopub.status.busy": "2024-10-03T19:28:43.681668Z",
     "iopub.status.idle": "2024-10-03T19:28:43.705618Z",
     "shell.execute_reply": "2024-10-03T19:28:43.704793Z"
    },
    "papermill": {
     "duration": 0.030906,
     "end_time": "2024-10-03T19:28:43.707654",
     "exception": false,
     "start_time": "2024-10-03T19:28:43.676748",
     "status": "completed"
    },
    "tags": []
   },
   "outputs": [],
   "source": [
    "import pandas as pd\n",
    "\n",
    "from infra.settings_datasets import training_dataset\n",
    "\n",
    "\n",
    "def preprocess_dataset(dataset: pd.DataFrame) -> pd.DataFrame:\n",
    "    \"\"\"Sample function showing how to execute arbitrary code on your dataset\n",
    "\n",
    "    Parameters\n",
    "    ----------\n",
    "    dataset : pd.DataFrame\n",
    "        A dataset we will preprocess\n",
    "\n",
    "    Returns\n",
    "    -------\n",
    "    pd.DataFrame :\n",
    "        Preprocessed dataset\n",
    "    \"\"\"\n",
    "    # 必要な前処理はここに記載する\n",
    "    # dataset[\"balance_as_percent_of_income\"] = (\n",
    "    #    dataset[\"revol_bal\"] / dataset[\"annual_inc\"]\n",
    "    #)\n",
    "    #dataset.drop(columns=[\"mths_since_last_major_derog\", \"policy_code\"], inplace=True)\n",
    "\n",
    "    return dataset\n",
    "\n",
    "\n",
    "# Replace as needed with your own data ingest and/or preparation logic\n",
    "df = preprocess_dataset(pd.read_csv(training_dataset.file_path))"
   ]
  },
  {
   "cell_type": "code",
   "execution_count": null,
   "id": "67123519f845d3ec",
   "metadata": {
    "execution": {
     "iopub.execute_input": "2024-10-03T19:28:43.717694Z",
     "iopub.status.busy": "2024-10-03T19:28:43.717376Z",
     "iopub.status.idle": "2024-10-03T19:28:45.355481Z",
     "shell.execute_reply": "2024-10-03T19:28:45.354570Z"
    },
    "papermill": {
     "duration": 1.645259,
     "end_time": "2024-10-03T19:28:45.358023",
     "exception": false,
     "start_time": "2024-10-03T19:28:43.712764",
     "status": "completed"
    },
    "tags": []
   },
   "outputs": [],
   "source": [
    "from datarobotx.idp.datasets import get_or_create_dataset_from_df\n",
    "\n",
    "print(\"Uploading training data to AI Catalog...\")\n",
    "training_dataset_id = get_or_create_dataset_from_df(\n",
    "    endpoint=client.endpoint,\n",
    "    token=client.token,\n",
    "    data_frame=df,\n",
    "    name=training_dataset.resource_name,\n",
    "    use_cases=use_case_id,\n",
    ")"
   ]
  },
  {
   "cell_type": "markdown",
   "id": "dc1889058273e97b",
   "metadata": {
    "papermill": {
     "duration": 0.004072,
     "end_time": "2024-10-03T19:28:45.367695",
     "exception": false,
     "start_time": "2024-10-03T19:28:45.363623",
     "status": "completed"
    },
    "tags": []
   },
   "source": [
    "# Model Training"
   ]
  },
  {
   "cell_type": "code",
   "execution_count": null,
   "id": "99a32355c63f07b7",
   "metadata": {
    "execution": {
     "iopub.execute_input": "2024-10-03T19:28:45.378297Z",
     "iopub.status.busy": "2024-10-03T19:28:45.377896Z",
     "iopub.status.idle": "2024-10-03T19:28:45.386049Z",
     "shell.execute_reply": "2024-10-03T19:28:45.384891Z"
    },
    "papermill": {
     "duration": 0.015058,
     "end_time": "2024-10-03T19:28:45.388066",
     "exception": false,
     "start_time": "2024-10-03T19:28:45.373008",
     "status": "completed"
    },
    "tags": []
   },
   "outputs": [],
   "source": [
    "from infra.common.schema import (\n",
    "    AdvancedOptionsArgs,\n",
    "    AnalyzeAndModelArgs,\n",
    "    AutopilotRunArgs,\n",
    ")\n",
    "from infra.settings_main import project_name\n",
    "\n",
    "autopilotrun_args = AutopilotRunArgs(\n",
    "    name=f\"Predictive AI Starter Project [{project_name}]\",\n",
    "    advanced_options_config=AdvancedOptionsArgs(seed=42),\n",
    "    analyze_and_model_config=AnalyzeAndModelArgs(\n",
    "        metric=\"RMSE\",\n",
    "        mode=dr.enums.AUTOPILOT_MODE.QUICK,\n",
    "        target=\"Sales\",\n",
    "        worker_count=-1,\n",
    "    ),\n",
    ")\n",
    "\n",
    "registered_model_name = f\"Predictive AI Starter Registered Model [{project_name}]\""
   ]
  },
  {
   "cell_type": "code",
   "execution_count": null,
   "id": "d110df13594623e8",
   "metadata": {
    "execution": {
     "iopub.execute_input": "2024-10-03T19:28:45.398923Z",
     "iopub.status.busy": "2024-10-03T19:28:45.398434Z",
     "iopub.status.idle": "2024-10-03T19:28:49.132597Z",
     "shell.execute_reply": "2024-10-03T19:28:49.131627Z"
    },
    "papermill": {
     "duration": 3.741162,
     "end_time": "2024-10-03T19:28:49.133955",
     "exception": true,
     "start_time": "2024-10-03T19:28:45.392793",
     "status": "failed"
    },
    "tags": []
   },
   "outputs": [],
   "source": [
    "from datarobotx.idp.autopilot import get_or_create_autopilot_run\n",
    "from datarobotx.idp.registered_model_versions import (\n",
    "    get_or_create_registered_leaderboard_model_version,\n",
    ")\n",
    "\n",
    "print(\"Running Autopilot...\")\n",
    "project_id = get_or_create_autopilot_run(\n",
    "    endpoint=client.endpoint,\n",
    "    token=client.token,\n",
    "    dataset_id=training_dataset_id,\n",
    "    use_case=use_case_id,\n",
    "    **autopilotrun_args.model_dump(),\n",
    ")\n",
    "\n",
    "model_id = dr.ModelRecommendation.get(project_id).model_id\n",
    "\n",
    "print(\"Registered recommended model...\")\n",
    "registered_model_version_id = get_or_create_registered_leaderboard_model_version(\n",
    "    endpoint=client.endpoint,\n",
    "    token=client.token,\n",
    "    model_id=model_id,\n",
    "    registered_model_name=registered_model_name,\n",
    ")"
   ]
  },
  {
   "cell_type": "markdown",
   "id": "35b307d4",
   "metadata": {},
   "source": [
    "# Export settings for provisioning app, other dependent resources"
   ]
  },
  {
   "cell_type": "code",
   "execution_count": null,
   "id": "ce6124ed",
   "metadata": {},
   "outputs": [],
   "source": [
    "import yaml\n",
    "\n",
    "from infra.settings_main import model_training_output_path\n",
    "from starter.i18n import gettext\n",
    "from starter.schema import AppSettings\n",
    "\n",
    "print(\"Capturing settings required to deploy the frontend...\")\n",
    "app_settings = AppSettings(\n",
    "    registered_model_version_id=registered_model_version_id,\n",
    "    registered_model_name=registered_model_name,\n",
    "    use_case_id=use_case_id,\n",
    "    project_id=project_id,\n",
    "    model_id=model_id,\n",
    "    target=autopilotrun_args.analyze_and_model_config.target,\n",
    "    training_dataset_id=training_dataset_id,\n",
    "    page_title=gettext(\"Predictive AI Starter\"),\n",
    "    page_description=gettext(\n",
    "        \"An application designed to simplify interactions with predictions while providing clear insights into the key drivers behind those predictions.\"\n",
    "    ),\n",
    ")\n",
    "\n",
    "with open(model_training_output_path, \"w\") as f:\n",
    "    yaml.dump(app_settings.model_dump(), f, allow_unicode=True)"
   ]
  }
 ],
 "metadata": {
  "kernelspec": {
   "display_name": "rtemp",
   "language": "python",
   "name": "python3"
  },
  "language_info": {
   "codemirror_mode": {
    "name": "ipython",
    "version": 3
   },
   "file_extension": ".py",
   "mimetype": "text/x-python",
   "name": "python",
   "nbconvert_exporter": "python",
   "pygments_lexer": "ipython3",
   "version": "3.12.2"
  },
  "papermill": {
   "default_parameters": {},
   "duration": 10.026671,
   "end_time": "2024-10-03T19:28:49.662019",
   "environment_variables": {},
   "exception": true,
   "input_path": "notebooks/train_model.ipynb",
   "output_path": "notebooks/train_model.ipynb",
   "parameters": {},
   "start_time": "2024-10-03T19:28:39.635348",
   "version": "2.6.0"
  }
 },
 "nbformat": 4,
 "nbformat_minor": 5
}
